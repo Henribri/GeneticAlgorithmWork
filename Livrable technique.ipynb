{
 "cells": [
  {
   "cell_type": "markdown",
   "metadata": {},
   "source": [
    "# Projet Data"
   ]
  },
  {
   "cell_type": "markdown",
   "metadata": {},
   "source": [
    "### Import libraries"
   ]
  },
  {
   "cell_type": "code",
   "execution_count": 1,
   "metadata": {},
   "outputs": [],
   "source": [
    "import numpy as np\n",
    "import random as rdm\n",
    "import networkx as nx\n",
    "import matplotlib.pyplot as plt\n",
    "from pymongo import MongoClient\n",
    "import pandas as pd\n",
    "import seaborn as sns\n",
    "import matplotlib.pyplot as plt\n",
    "import matplotlib.dates as mdates\n",
    "import matplotlib.ticker as ticker\n",
    "from datetime import datetime, timedelta\n",
    "import time\n",
    "from sklearn.linear_model import LinearRegression\n",
    "import statistics as st\n",
    "from pulp import *\n",
    "import statsmodels.api as sm\n",
    "from scipy import stats\n",
    "import statsmodels.stats.api as sms\n",
    "import warnings\n",
    "from time import time \n",
    "warnings.filterwarnings('ignore')"
   ]
  },
  {
   "cell_type": "markdown",
   "metadata": {},
   "source": [
    "### DB connexion"
   ]
  },
  {
   "cell_type": "code",
   "execution_count": 2,
   "metadata": {},
   "outputs": [],
   "source": [
    "# BDD connection\n",
    "client = MongoClient('localhost',27017)\n",
    "db=client['DataProject']\n",
    "collection_trafic=db['vehicules_stamped']"
   ]
  },
  {
   "cell_type": "markdown",
   "metadata": {},
   "source": [
    "### Dataframe creation"
   ]
  },
  {
   "cell_type": "code",
   "execution_count": 3,
   "metadata": {},
   "outputs": [],
   "source": [
    "#Request the mongoDB\n",
    "all_traffic=pd.DataFrame(collection_trafic.find())\n",
    "\n",
    "#Drop the mongoID (useless here)\n",
    "all_traffic=all_traffic.drop('_id', axis=1)"
   ]
  },
  {
   "cell_type": "markdown",
   "metadata": {},
   "source": [
    "## I - Traffic analyse and descriptive statistics"
   ]
  },
  {
   "cell_type": "markdown",
   "metadata": {},
   "source": [
    "### Function definition"
   ]
  },
  {
   "cell_type": "markdown",
   "metadata": {},
   "source": [
    "*Get the traffic data for all edges or a single one*"
   ]
  },
  {
   "cell_type": "code",
   "execution_count": 4,
   "metadata": {},
   "outputs": [],
   "source": [
    "def get_edge_stats(choice_edge, all):\n",
    "    \n",
    "    if all==False:\n",
    "        print(\"---\", \"Etude de l'arête \", choice_edge, \"---\", \"\\n\")\n",
    "        result = collection_trafic.aggregate([\n",
    "            {'$match': {'num_arete': choice_edge,}},\n",
    "            {'$group': \n",
    "                {\n",
    "                    '_id': {\n",
    "                        'date': '$date',\n",
    "                    },\n",
    "                    'count': {'$sum': '$nb_vehicules'}\n",
    "                }\n",
    "            }\n",
    "        ])\n",
    "    elif all==True:\n",
    "        print(\"---\", \"Etude de toutes les arrêtes\",\"---\", \"\\n\")\n",
    "        result = collection_trafic.aggregate([\n",
    "          {\n",
    "            \"$group\": {\n",
    "              \"_id\": { \"date\" : \"$date\" },\n",
    "              \"count\": { \"$avg\":\"$nb_vehicules\" }\n",
    "            }\n",
    "          }\n",
    "        ])\n",
    "\n",
    "    # result from mongoDB request\n",
    "    result = list(result)\n",
    "\n",
    "    # recover all date from an edge\n",
    "    #dates = collection_trafic.distinct(\"date\")\n",
    "    #dates = list(dates)\n",
    "    \n",
    "    \n",
    "    dates = None # convert string date to datetime\n",
    "    if isinstance(result[0]['_id']['date'], str):\n",
    "        dates = [(datetime.strptime(x['_id']['date'],\"%d/%m/%Y %Hh%Mm\"),x['count']) for x in result]\n",
    "    else:\n",
    "        dates = [((x['_id']['date']),x['count']) for x in result]\n",
    "    \n",
    "    # sort list by date\n",
    "    sortedDates = sorted(\n",
    "         dates,\n",
    "         key=lambda x: x[0], reverse=False\n",
    "    )\n",
    "    \n",
    "    return sortedDates"
   ]
  },
  {
   "cell_type": "markdown",
   "metadata": {},
   "source": [
    "*Filter datas by time*"
   ]
  },
  {
   "cell_type": "code",
   "execution_count": 5,
   "metadata": {},
   "outputs": [],
   "source": [
    "def get_specific_date_by_edge(sortedArray, choice_hour, choice_minute):\n",
    "\n",
    "    target_time = []\n",
    "    # recover specific data (all data corresponding to hour and minutes choice)\n",
    "    for item in sortedArray:\n",
    "        if (item[0].hour == choice_hour) and (item[0].minute == choice_minute):\n",
    "            target_time.append(item)\n",
    "\n",
    "    #print all tuple in target_time list\n",
    "    print(\"---\", \"Données de circulation à\",choice_hour, \"h\",choice_minute,\"m\", \"---\"\n",
    "          ,\"\\n\")\n",
    "    for el in target_time:\n",
    "        print(el)\n",
    "    print(\"\\n\")\n",
    "    \n",
    "    return target_time"
   ]
  },
  {
   "cell_type": "markdown",
   "metadata": {},
   "source": [
    "*Print statistics and boxplot*"
   ]
  },
  {
   "cell_type": "code",
   "execution_count": 6,
   "metadata": {},
   "outputs": [],
   "source": [
    "def print_all(tab):\n",
    "\n",
    "    tab_nb_vehicules = []\n",
    "    # get nb_vehicules data only\n",
    "    for date, nb_vehicules in tab:    \n",
    "        tab_nb_vehicules.append(nb_vehicules)\n",
    "    \n",
    "    # sort list by date\n",
    "    tab_nb_vehicules.sort()\n",
    "    \n",
    "    median = st.median(tab_nb_vehicules)\n",
    "    moyenne = st.mean(tab_nb_vehicules)\n",
    "    \n",
    "    q1 = np.quantile(tab_nb_vehicules,0.25)\n",
    "    q3 = np.quantile(tab_nb_vehicules,0.75)\n",
    "    \n",
    "    min_tab = min(tab_nb_vehicules)\n",
    "    max_tab = max(tab_nb_vehicules)\n",
    "    \n",
    "    variance = st.variance(tab_nb_vehicules)\n",
    "    ecart_type = st.pstdev(tab_nb_vehicules)\n",
    "    \n",
    "    print(\"---\", \"Données statistiques\", \"---\")\n",
    "    print('la médiane est de : ', median)\n",
    "    print('la moyenne est de : ', round(moyenne, 2))\n",
    "    print('le premier quartile est de : ', q1)\n",
    "    print('le second quartile est de : ', q3)\n",
    "    print('l\\'intervalle interquartile est : [' , q1 , ';', q3 ,']')\n",
    "    print('l\\'étendue est : [' , min_tab , ';', max_tab ,']')\n",
    "    print('la variance est de : ', variance)\n",
    "    print('l\\'écart type est de : ', ecart_type)\n",
    "    \n",
    "    \n",
    "    # panda boxplot\n",
    "    df = pd.DataFrame(tab_nb_vehicules, columns=['Boite']) \n",
    "    boxplot = df.boxplot(column=['Boite'])"
   ]
  },
  {
   "cell_type": "markdown",
   "metadata": {},
   "source": [
    "*Analyze on edges*"
   ]
  },
  {
   "cell_type": "code",
   "execution_count": 7,
   "metadata": {},
   "outputs": [
    {
     "name": "stdout",
     "output_type": "stream",
     "text": [
      "--- Etude de l'arête  420 --- \n",
      "\n",
      "--- Données de circulation à 17 h 30 m --- \n",
      "\n",
      "(datetime.datetime(2020, 1, 1, 17, 30), 105)\n",
      "(datetime.datetime(2020, 1, 2, 17, 30), 108)\n",
      "(datetime.datetime(2020, 1, 3, 17, 30), 114)\n",
      "(datetime.datetime(2020, 1, 4, 17, 30), 91)\n",
      "(datetime.datetime(2020, 1, 5, 17, 30), 103)\n",
      "\n",
      "\n",
      "--- Données statistiques ---\n",
      "la médiane est de :  105\n",
      "la moyenne est de :  104.2\n",
      "le premier quartile est de :  103.0\n",
      "le second quartile est de :  108.0\n",
      "l'intervalle interquartile est : [ 103.0 ; 108.0 ]\n",
      "l'étendue est : [ 91 ; 114 ]\n",
      "la variance est de :  71.7\n",
      "l'écart type est de :  7.573638491504595\n"
     ]
    },
    {
     "data": {
      "image/png": "[encoded data removed]",
      "text/plain": [
       "<Figure size 432x288 with 1 Axes>"
      ]
     },
     "metadata": {
      "needs_background": "light"
     },
     "output_type": "display_data"
    }
   ],
   "source": [
    "# specify the edge\n",
    "edge = 420\n",
    "\n",
    "# specify the time \n",
    "hour = 17\n",
    "mins = 30\n",
    "\n",
    "# choose between all edged or a particular one\n",
    "all = False\n",
    "\n",
    "# filter the data\n",
    "full_array = get_edge_stats(edge, all)\n",
    "timed_array = get_specific_date_by_edge(full_array, hour, mins)\n",
    "\n",
    "# call fonction which return all statistic data \n",
    "print_all(timed_array)"
   ]
  },
  {
   "cell_type": "markdown",
   "metadata": {},
   "source": [
    "## II - Linear regression"
   ]
  },
  {
   "cell_type": "markdown",
   "metadata": {},
   "source": [
    "### Function definition"
   ]
  },
  {
   "cell_type": "markdown",
   "metadata": {},
   "source": [
    "*Trace regression line*"
   ]
  },
  {
   "cell_type": "code",
   "execution_count": 8,
   "metadata": {},
   "outputs": [],
   "source": [
    "def print_reg(traffic, result):\n",
    "        \n",
    "    hours = mdates.HourLocator(interval = 1)  \n",
    "    minutes = mdates.MinuteLocator(interval = 15)  \n",
    "    h_fmt = mdates.DateFormatter('%H:%M')\n",
    "    t=sns.lineplot(x=pd.to_datetime(traffic['date']), y=result, color='r')\n",
    "    t.set_xlim([pd.to_datetime(traffic['date']).min(),pd.to_datetime(traffic['date']).max()])\n",
    "    t.xaxis.set_major_locator(hours)\n",
    "    t.xaxis.set_major_locator(minutes)\n",
    "    t.xaxis.set_major_formatter(h_fmt)\n",
    "    \n",
    "    return t"
   ]
  },
  {
   "cell_type": "markdown",
   "metadata": {},
   "source": [
    "*Print traffic on differents hours and minutes*"
   ]
  },
  {
   "cell_type": "code",
   "execution_count": 9,
   "metadata": {},
   "outputs": [],
   "source": [
    "def print_traffic(traffic_to_print):\n",
    "    \n",
    "    hours = mdates.HourLocator(interval = 1)  \n",
    "    minutes = mdates.MinuteLocator(interval = 15)  \n",
    "    h_fmt = mdates.DateFormatter('%H:%M')\n",
    "    g = sns.scatterplot(x=pd.to_datetime(traffic_to_print['date']), y=traffic_to_print['nb_vehicules'])\n",
    "    g.set_xlim([pd.to_datetime(traffic_to_print['date']).min(),pd.to_datetime(traffic_to_print['date']).max()])\n",
    "    g.xaxis.set_major_locator(hours)\n",
    "    g.xaxis.set_major_locator(minutes)\n",
    "    g.xaxis.set_major_formatter(h_fmt)\n",
    "    \n",
    "    return g"
   ]
  },
  {
   "cell_type": "markdown",
   "metadata": {},
   "source": [
    "*Get the traffic on a part of day for specific edge*"
   ]
  },
  {
   "cell_type": "code",
   "execution_count": 10,
   "metadata": {},
   "outputs": [],
   "source": [
    "def traffic_edge(edge, matin, all_traffic):\n",
    "    \n",
    "    #get trafic data of a specific edge\n",
    "    traffic = all_traffic.loc[all_traffic['num_arete']== edge]\n",
    "    t = (traffic.loc[traffic['date'].dt.hour <= 9] if matin == True else traffic.loc[traffic['date'].dt.hour >= 17])\n",
    "    \n",
    "    #get only datas of the morning\n",
    "    t.loc[0:,'date']=t['date'].dt.strftime('%H:%M')\n",
    "    return t"
   ]
  },
  {
   "cell_type": "markdown",
   "metadata": {},
   "source": [
    "*linear regression for an edge at a specific time*"
   ]
  },
  {
   "cell_type": "code",
   "execution_count": 11,
   "metadata": {},
   "outputs": [],
   "source": [
    "def linear_regression(traffic_to_line,time, analyse):\n",
    "    \n",
    "    #convert the date to a int value\n",
    "    traffic_to_line.loc[0:,'date']=pd.to_datetime(traffic_to_line['date'])\n",
    "    \n",
    "    # to improve\n",
    "    traffic_to_line.loc[0:,'date']=[i.timestamp() for i in traffic_to_line['date']]\n",
    "    \n",
    "    # Define target\n",
    "    y = traffic_to_line.nb_vehicules\n",
    "\n",
    "    # Define features\n",
    "    X=np.array(traffic_to_line['date']).reshape(-1, 1)\n",
    "\n",
    "    # Define model\n",
    "    model=LinearRegression()\n",
    "    \n",
    "    # fit the model\n",
    "    model.fit(X,y)\n",
    "    \n",
    "    # convert the date as the target type\n",
    "    _target = [i.timestamp() for i in pd.to_datetime(time)]\n",
    "    \n",
    "    #predicted results\n",
    "    result=model.predict(np.array(_target).reshape(-1, 1))\n",
    "    \n",
    "    \n",
    "    if analyse == True :\n",
    "        regressor_OLS = sm.OLS(endog = y, exog = X).fit()\n",
    "\n",
    "        print(\"Score du modèle:\", model.score(X, y), \"\\n\")\n",
    "\n",
    "        print(\"Test d'homoghénéité\")\n",
    "        print('p valeur de Goldfeld–Quandt test est: ', sms.het_goldfeldquandt(y, regressor_OLS.model.exog)[1], \"\\n\")\n",
    "\n",
    "        print(\"Test de normalite (H0 : les donnes suivent une loi Normale)\")\n",
    "        print('p valeur de Jarque-Bera test est: ', stats.jarque_bera(regressor_OLS.resid)[1])\n",
    "        print('p value de Shapiro-Wilk test est: ', stats.shapiro(regressor_OLS.resid)[1], \"\\n\")\n",
    "\n",
    "\n",
    "        print(\"Evaluation de la regression lineaire en utilisant la classe statsmodels :\")\n",
    "        print(\"La valeur du R2 est \", regressor_OLS.rsquared)\n",
    "    \n",
    "    return result"
   ]
  },
  {
   "cell_type": "markdown",
   "metadata": {},
   "source": [
    "*Get predicted weight of an edge during a period (function used to get edge weight of a graphe)*"
   ]
  },
  {
   "cell_type": "code",
   "execution_count": 12,
   "metadata": {},
   "outputs": [],
   "source": [
    "def predict_weight(num_arete, target, matin, all_traffic):\n",
    "    \n",
    "    # get a predict weight\n",
    "    traffic=traffic_edge(num_arete, matin, all_traffic)\n",
    "    result = linear_regression(traffic, target, False)\n",
    "    \n",
    "    return result"
   ]
  },
  {
   "cell_type": "markdown",
   "metadata": {},
   "source": [
    "### Display regression"
   ]
  },
  {
   "cell_type": "markdown",
   "metadata": {},
   "source": [
    "*You have to specify edge number to show regression*"
   ]
  },
  {
   "cell_type": "code",
   "execution_count": 13,
   "metadata": {},
   "outputs": [
    {
     "name": "stdout",
     "output_type": "stream",
     "text": [
      "Score du modèle: 0.5496468575050215 \n",
      "\n",
      "Test d'homoghénéité\n",
      "p valeur de Goldfeld–Quandt test est:  0.3724299750663221 \n",
      "\n",
      "Test de normalite (H0 : les donnes suivent une loi Normale)\n",
      "p valeur de Jarque-Bera test est:  0.00843342586229412\n",
      "p value de Shapiro-Wilk test est:  0.00296246400102973 \n",
      "\n",
      "Evaluation de la regression lineaire en utilisant la classe statsmodels :\n",
      "La valeur du R2 est  4.928152147587461e-06\n"
     ]
    },
    {
     "data": {
      "image/png": "[encoded data removed]",
      "text/plain": [
       "<Figure size 1080x432 with 1 Axes>"
      ]
     },
     "metadata": {
      "needs_background": "light"
     },
     "output_type": "display_data"
    },
    {
     "name": "stdout",
     "output_type": "stream",
     "text": [
      "Score du modèle: 0.5106954628517972 \n",
      "\n",
      "Test d'homoghénéité\n",
      "p valeur de Goldfeld–Quandt test est:  0.8219159938578677 \n",
      "\n",
      "Test de normalite (H0 : les donnes suivent une loi Normale)\n",
      "p valeur de Jarque-Bera test est:  0.19065972687193977\n",
      "p value de Shapiro-Wilk test est:  0.19994452595710754 \n",
      "\n",
      "Evaluation de la regression lineaire en utilisant la classe statsmodels :\n",
      "La valeur du R2 est  -9.323038234310133e-06\n"
     ]
    },
    {
     "data": {
      "image/png": "[encoded data removed]",
      "text/plain": [
       "<Figure size 1080x432 with 1 Axes>"
      ]
     },
     "metadata": {
      "needs_background": "light"
     },
     "output_type": "display_data"
    }
   ],
   "source": [
    "def show_reg(num_arete, all_traffic):\n",
    "    traffic_m=traffic_edge(num_arete, True, all_traffic)\n",
    "    result_m = linear_regression(traffic_m.copy(), traffic_m['date'], True)\n",
    "    plt.figure(figsize=(15,6))\n",
    "    \n",
    "        \n",
    "    gm=print_traffic(traffic_m)\n",
    "    rm= print_reg(traffic_m, result_m)\n",
    "    \n",
    "    plt.show()\n",
    "\n",
    "\n",
    "    traffic_e=traffic_edge(num_arete, False, all_traffic)\n",
    "    result_e = linear_regression(traffic_e.copy(), traffic_e['date'], True)\n",
    "    plt.figure(figsize=(15,6))\n",
    "    \n",
    "        \n",
    "    ge=print_traffic(traffic_e)\n",
    "    re= print_reg(traffic_e, result_e)\n",
    "    \n",
    "    plt.show()\n",
    "\n",
    "# Call function to get informations\n",
    "show_reg(1, all_traffic)"
   ]
  },
  {
   "cell_type": "markdown",
   "metadata": {},
   "source": [
    "## III - Create Complete Graph"
   ]
  },
  {
   "cell_type": "markdown",
   "metadata": {},
   "source": [
    "### Initialization"
   ]
  },
  {
   "cell_type": "code",
   "execution_count": 14,
   "metadata": {},
   "outputs": [],
   "source": [
    "# Vertices Number\n",
    "total_sommets=10\n",
    "\n",
    "hourParameter = \"08:00\"\n",
    "matin = True\n",
    "# Vertices List\n",
    "som_l = [i for i in range(total_sommets)]"
   ]
  },
  {
   "cell_type": "markdown",
   "metadata": {},
   "source": [
    "### Function definition"
   ]
  },
  {
   "cell_type": "markdown",
   "metadata": {},
   "source": [
    "*Print complete graph*"
   ]
  },
  {
   "cell_type": "code",
   "execution_count": 15,
   "metadata": {},
   "outputs": [],
   "source": [
    "def show_graph(G): \n",
    "    weights = [e for e in nx.get_edge_attributes(G,'weight').values()]\n",
    "    pos=nx.spring_layout(G)\n",
    "    colors=weights\n",
    "    cmap=plt.cm.Blues\n",
    "    vmin = min(colors)\n",
    "    vmax = max(colors)\n",
    "    nx.draw(G, pos, node_color='mediumpurple', edge_color=colors, width=4, edge_cmap=cmap, with_labels=True)\n",
    "    sm = plt.cm.ScalarMappable(cmap=cmap, norm=plt.Normalize(vmin = vmin, vmax=vmax))\n",
    "    plt.colorbar(sm)\n",
    "    plt.show()"
   ]
  },
  {
   "cell_type": "markdown",
   "metadata": {},
   "source": [
    "*Recover estimate edge's weight for a time (Using linear regression)*\n"
   ]
  },
  {
   "cell_type": "code",
   "execution_count": 16,
   "metadata": {},
   "outputs": [],
   "source": [
    "def get_weight_predict(nb_arete, time_string):\n",
    "    # Recuperation des aretes\n",
    "    \n",
    "    # on test si nb arete > 500\n",
    "\n",
    "    num_arete_l=([i for i in range(nb_arete)] if nb_arete <= 500 else [i for i in range(500)])\n",
    "    tab_weight=[]\n",
    "    tab_edges=[]\n",
    "    # Pour chaque arete on recupere les estimations\n",
    "    for num_arete in num_arete_l:\n",
    "\n",
    "        predict= predict_weight(num_arete, [time_string], matin, all_traffic)\n",
    "\n",
    "        #print(\"Num arete : {} Poid estimé : {} pour {}\".format(num_arete, predict[0], time_string))\n",
    "\n",
    "        # on cree nos tableaux qui serviront a créer un graphe de prevision\n",
    "        tab_weight.append(predict[0])\n",
    "        #tab_edges.append(num_arete)\n",
    "        \n",
    "    # on complete avec du random\n",
    "    while True:\n",
    "        if len(tab_weight) < nb_arete:\n",
    "            tab_weight.append(rdm.randint(0,200))\n",
    "\n",
    "        else:break\n",
    "    \n",
    "\n",
    "    return tab_weight"
   ]
  },
  {
   "cell_type": "markdown",
   "metadata": {},
   "source": [
    "### Create complete graph and add predict weight to edges"
   ]
  },
  {
   "cell_type": "markdown",
   "metadata": {},
   "source": [
    "We start by creating an adjacency matrix that corresponds to a so-called \"complete\" graph."
   ]
  },
  {
   "cell_type": "code",
   "execution_count": 17,
   "metadata": {},
   "outputs": [],
   "source": [
    "adjacency = []\n",
    "for x in range(total_sommets+1):\n",
    "    adjacency.append([])\n",
    "    for y in range(total_sommets+1):\n",
    "        if y == x :\n",
    "            adjacency[x].append(0)\n",
    "        else:\n",
    "            adjacency[x].append(1)\n",
    "adjacency = np.array(adjacency)"
   ]
  },
  {
   "cell_type": "code",
   "execution_count": 18,
   "metadata": {
    "scrolled": true
   },
   "outputs": [
    {
     "data": {
      "image/png": "[encoded data removed]",
      "text/plain": [
       "<Figure size 432x288 with 2 Axes>"
      ]
     },
     "metadata": {},
     "output_type": "display_data"
    }
   ],
   "source": [
    "rows, cols = np.where(adjacency == 1)\n",
    "edges = zip(rows.tolist(), cols.tolist())\n",
    "G = nx.Graph() # This is a Directed graph\n",
    "G.add_edges_from(edges)\n",
    "\n",
    "only_Traffic=get_weight_predict(len(G.edges()), hourParameter)\n",
    "G.add_weighted_edges_from(np.column_stack((np.array(G.edges()), np.array(only_Traffic))))\n",
    "\n",
    "# Save the position of nodes\n",
    "pos = nx.spring_layout(G) # positions for all nodes\n",
    "show_graph(G) "
   ]
  },
  {
   "cell_type": "markdown",
   "metadata": {},
   "source": [
    "## IV - Algorithms"
   ]
  },
  {
   "cell_type": "markdown",
   "metadata": {},
   "source": [
    "##  Genetic algo implementation"
   ]
  },
  {
   "cell_type": "markdown",
   "metadata": {},
   "source": [
    "### Function definition"
   ]
  },
  {
   "cell_type": "markdown",
   "metadata": {},
   "source": [
    "*Get the total weight for a way*"
   ]
  },
  {
   "cell_type": "code",
   "execution_count": 19,
   "metadata": {},
   "outputs": [],
   "source": [
    "def calc_weight(start, all_ways, graph, nb_livreurs):\n",
    "    \n",
    "    # On definit la liste qui contiendra nos poids\n",
    "    som_weight_l=[]\n",
    "    \n",
    "    # Pour chaque chemin\n",
    "    for long_way in all_ways:\n",
    "        sum_weight=0\n",
    "        \n",
    "        # On divise le chemin en nombre de livreur\n",
    "        split_way=np.array_split(long_way, nb_livreurs)\n",
    "        \n",
    "        for way in split_way:\n",
    "            \n",
    "            # On part de la base\n",
    "            sum_weight+=graph.get_edge_data(start,way[0])[\"weight\"]\n",
    "\n",
    "            # Pour chaque element de la solution on calcul leur chemin              \n",
    "            for e in range(len(way)-1):\n",
    "\n",
    "                sum_weight+=graph.get_edge_data(way[e],way[e+1])[\"weight\"]\n",
    "\n",
    "            # On revient a la base\n",
    "            sum_weight+=graph.get_edge_data(way[-1],start)[\"weight\"]           \n",
    "\n",
    "        # On ajoute le poid a notre liste\n",
    "        som_weight_l.append(sum_weight)\n",
    "    \n",
    "    return som_weight_l"
   ]
  },
  {
   "cell_type": "markdown",
   "metadata": {},
   "source": [
    "*Get index from best ways in weight function*"
   ]
  },
  {
   "cell_type": "code",
   "execution_count": 20,
   "metadata": {},
   "outputs": [],
   "source": [
    "def get_best(way_weight_l):\n",
    "    \n",
    "    # On definit une liste qui contiendra nos index\n",
    "    index_l=[]\n",
    "    \n",
    "    # On fait une copie de notre liste\n",
    "    copy_way_weight_l=list(way_weight_l)\n",
    "\n",
    "    # x Best Chromosomes\n",
    "    for i in range(8):\n",
    "        index_best=way_weight_l.index(min(copy_way_weight_l))\n",
    "        index_l.append(index_best)\n",
    "        copy_way_weight_l.pop(copy_way_weight_l.index(min(copy_way_weight_l)))\n",
    "\n",
    "        \n",
    "    return index_l"
   ]
  },
  {
   "cell_type": "markdown",
   "metadata": {},
   "source": [
    "*Function to mutate way*"
   ]
  },
  {
   "cell_type": "code",
   "execution_count": 21,
   "metadata": {},
   "outputs": [],
   "source": [
    "def mutation(way):\n",
    "    # On fait un décalage dans notre liste\n",
    "    way.insert(0,way.pop())\n",
    "    return way"
   ]
  },
  {
   "cell_type": "markdown",
   "metadata": {},
   "source": [
    "*Function to fusion best ways*"
   ]
  },
  {
   "cell_type": "code",
   "execution_count": 22,
   "metadata": {},
   "outputs": [],
   "source": [
    "def cross(new_way, way_2):\n",
    "    \n",
    "    # On selectionne les sommets sur lesquels on est pas encore passé\n",
    "    end = [i for i in way_2 if i not in new_way]\n",
    "    \n",
    "    # Merging\n",
    "    new_way.extend(end)\n",
    "    \n",
    "    return new_way"
   ]
  },
  {
   "cell_type": "markdown",
   "metadata": {},
   "source": [
    "*Function to transform way*"
   ]
  },
  {
   "cell_type": "code",
   "execution_count": 23,
   "metadata": {},
   "outputs": [],
   "source": [
    "def transform_best(all_ways,index, population):\n",
    "    \n",
    "    # On recupère une partie des meilleurs chemins\n",
    "    best_1=all_ways[index[0]][0:int(len(all_ways[index[0]])*rdm.random())]\n",
    "    best_2=all_ways[index[1]]\n",
    "    \n",
    "    \n",
    "    best_3=all_ways[index[2]][0:int(len(all_ways[index[0]])*rdm.random())]\n",
    "    best_4=all_ways[index[3]]\n",
    "        \n",
    "    # On récupère les autres solutions correctes\n",
    "    last_best=[all_ways[index[i+4]] for i in range(4)]\n",
    "\n",
    "    # On redéfinit nos solutions\n",
    "    all_ways=[]\n",
    "    \n",
    "    # On fusionne les 4 meilleures solutions\n",
    "    all_ways.append(cross(best_1, best_2))\n",
    "    all_ways.append(cross(best_3, best_4))\n",
    "    \n",
    "    # On fait une mutation de nos autres solutions\n",
    "    for way in last_best:\n",
    "        all_ways.append(mutation(way))\n",
    "\n",
    "    # On recréé une nouvelle population en ajoutant la solution\n",
    "    all_ways=add_pop(population, all_ways)\n",
    "    \n",
    "    return all_ways"
   ]
  },
  {
   "cell_type": "markdown",
   "metadata": {},
   "source": [
    "*Function to add new ramdom ways*"
   ]
  },
  {
   "cell_type": "code",
   "execution_count": 24,
   "metadata": {},
   "outputs": [],
   "source": [
    "def add_pop(population, all_ways):\n",
    "\n",
    "    for p in range(population-len(all_ways)):\n",
    "\n",
    "        # On genere des solution aleatoires\n",
    "        rdm.shuffle(all_ways[0])\n",
    "\n",
    "        # On ajoute une solution a notre liste\n",
    "        all_ways.append(list(all_ways[0]))\n",
    "\n",
    "    return all_ways"
   ]
  },
  {
   "cell_type": "markdown",
   "metadata": {},
   "source": [
    "### Initialization Genetic Solution"
   ]
  },
  {
   "cell_type": "code",
   "execution_count": 25,
   "metadata": {},
   "outputs": [],
   "source": [
    "#-- On definit la liste des points a livrer\n",
    "client_l= [i for i in range(1,total_sommets+1)]\n",
    "\n",
    "\n",
    "#-- On definit le point de base\n",
    "base=0\n",
    "\n",
    "#-- Number of phenotypes\n",
    "population=10\n",
    "\n",
    "#-- Generations generate\n",
    "iterations=200\n",
    "\n",
    "nb_livreurs = 5"
   ]
  },
  {
   "cell_type": "markdown",
   "metadata": {},
   "source": [
    "### Genectic Algo"
   ]
  },
  {
   "cell_type": "code",
   "execution_count": 26,
   "metadata": {},
   "outputs": [],
   "source": [
    "def genetic_algo():\n",
    "\n",
    "    # On defini une liste solution\n",
    "    all_ways=[]\n",
    "    all_ways=add_pop(population,[client_l])\n",
    "    global_best_weight=0\n",
    "    global_best_way=[]\n",
    "    converg=[]\n",
    "\n",
    "    # On genere une nouvelle population\n",
    "    for i in range(iterations):\n",
    "\n",
    "\n",
    "        # On calcul le poid de nos solutions\n",
    "        sol_poid=calc_weight(base, all_ways, G, nb_livreurs)\n",
    "\n",
    "        # On recupere les index des 8 meilleurs chemins\n",
    "        local_best_index=get_best(sol_poid)\n",
    "\n",
    "\n",
    "        # On met a jour le meilleur chemin\n",
    "        if sol_poid[local_best_index[0]]<global_best_weight or global_best_weight==0:\n",
    "            global_best_weight=sol_poid[local_best_index[0]]\n",
    "            global_best_way=all_ways[local_best_index[0]]\n",
    "\n",
    "\n",
    "            # On redivise le chemin en fonction du nombre de livreur\n",
    "            split_way=np.array_split(global_best_way, nb_livreurs)\n",
    "\n",
    "            print(\"Iteration : {}\".format(i))\n",
    "            num_livreur=0\n",
    "            for x in split_way:\n",
    "                num_livreur+=1\n",
    "                print(\"Pour le livreur {} : \".format(num_livreur))\n",
    "                print(base, \"-> \", end = '')\n",
    "                for ele in x: \n",
    "                    print(ele, \"-> \", end = '') \n",
    "                print(base)\n",
    "            print(\"Poid total : {} \\n\".format(global_best_weight))\n",
    "        converg.append(global_best_weight)\n",
    "\n",
    "\n",
    "        # On tranforme nos chemins pour en générer de nouveaux\n",
    "        all_ways=transform_best(all_ways,local_best_index, population)\n",
    "        plt.plot(range(len(converg)), converg)\n",
    "    \n",
    "    return split_way,global_best_weight"
   ]
  },
  {
   "cell_type": "markdown",
   "metadata": {},
   "source": [
    "### Show best way"
   ]
  },
  {
   "cell_type": "code",
   "execution_count": 27,
   "metadata": {},
   "outputs": [],
   "source": [
    "def displayResults(routes):\n",
    "    nx.draw_networkx_nodes(G, pos,width=4,with_labels=True)\n",
    "    nx.draw_networkx_nodes(G,pos,nodelist=[0],node_color='r') # Set Base Point color in red    \n",
    "    \n",
    "    colors = ['b','r','y','orange','g']\n",
    "    for r in routes:\n",
    "        color = colors.pop(np.random.randint(0, len(colors)))\n",
    "        nx.draw_networkx_edges(G, pos, edgelist=r, edge_color=color)\n",
    "            \n",
    "    plt.axis('off')\n",
    "    plt.show()"
   ]
  },
  {
   "cell_type": "markdown",
   "metadata": {},
   "source": [
    "### Run genetic algo, get best way then print it"
   ]
  },
  {
   "cell_type": "markdown",
   "metadata": {},
   "source": [
    "*Get the best way*"
   ]
  },
  {
   "cell_type": "code",
   "execution_count": 28,
   "metadata": {},
   "outputs": [
    {
     "name": "stdout",
     "output_type": "stream",
     "text": [
      "Iteration : 0\n",
      "Pour le livreur 1 : \n",
      "0 -> 5 -> 3 -> 0\n",
      "Pour le livreur 2 : \n",
      "0 -> 10 -> 8 -> 0\n",
      "Pour le livreur 3 : \n",
      "0 -> 1 -> 9 -> 0\n",
      "Pour le livreur 4 : \n",
      "0 -> 7 -> 4 -> 0\n",
      "Pour le livreur 5 : \n",
      "0 -> 2 -> 6 -> 0\n",
      "Poid total : 966.7967641316354 \n",
      "\n",
      "Iteration : 29\n",
      "Pour le livreur 1 : \n",
      "0 -> 8 -> 3 -> 0\n",
      "Pour le livreur 2 : \n",
      "0 -> 1 -> 9 -> 0\n",
      "Pour le livreur 3 : \n",
      "0 -> 10 -> 2 -> 0\n",
      "Pour le livreur 4 : \n",
      "0 -> 4 -> 7 -> 0\n",
      "Pour le livreur 5 : \n",
      "0 -> 6 -> 5 -> 0\n",
      "Poid total : 957.9882100634277 \n",
      "\n"
     ]
    },
    {
     "data": {
      "image/png": "[encoded data removed]",
      "text/plain": [
       "<Figure size 432x288 with 1 Axes>"
      ]
     },
     "metadata": {
      "needs_background": "light"
     },
     "output_type": "display_data"
    }
   ],
   "source": [
    "initial_t = time()\n",
    "\n",
    "result = genetic_algo()\n",
    "\n",
    "final_t = time()\n",
    "gnTime = final_t - initial_t\n",
    "\n",
    "routesGenetic = []\n",
    "for best_route in result[0]:\n",
    "    route = []\n",
    "    for idx,point in enumerate(best_route):\n",
    "        if idx > 0 or idx+1 == len(best_route):\n",
    "            route.append((fromC,point))\n",
    "        else:\n",
    "            route.append((0,point)) # start from base\n",
    "        fromC = point\n",
    "    route.append((best_route[-1],0)) # get back to base\n",
    "    routesGenetic.append(route)\n"
   ]
  },
  {
   "cell_type": "markdown",
   "metadata": {},
   "source": [
    "*Display the way*"
   ]
  },
  {
   "cell_type": "markdown",
   "metadata": {},
   "source": [
    "## Pulp Default Solver Implementation"
   ]
  },
  {
   "cell_type": "code",
   "execution_count": 29,
   "metadata": {},
   "outputs": [],
   "source": [
    "rows, cols = np.where(adjacency == 1)\n",
    "edges = zip(rows.tolist(), cols.tolist())\n",
    "newGraph = nx.DiGraph()\n",
    "newGraph.add_edges_from(edges)\n",
    "\n",
    "only_Traffic=get_weight_predict(len(newGraph.edges()), hourParameter)\n",
    "newGraph.add_weighted_edges_from(np.column_stack((np.array(newGraph.edges()), np.array(only_Traffic))))"
   ]
  },
  {
   "cell_type": "code",
   "execution_count": 30,
   "metadata": {},
   "outputs": [],
   "source": [
    "# set of clients\n",
    "N = client_l\n",
    "# all nodes (0 = including depot)\n",
    "V = [0] + N\n",
    "# adjacency list including traffic\n",
    "c = {(a,b):c['weight'] for a,b,c in newGraph.edges.data()}\n",
    "\n",
    "K = nb_livreurs # same as genetic parameter by default (updatable)"
   ]
  },
  {
   "cell_type": "code",
   "execution_count": 31,
   "metadata": {},
   "outputs": [],
   "source": [
    "prob = LpProblem(\"VRP\", LpMinimize)"
   ]
  },
  {
   "cell_type": "code",
   "execution_count": 32,
   "metadata": {},
   "outputs": [],
   "source": [
    "x = LpVariable.dicts('x',c, 0,1,LpBinary)"
   ]
  },
  {
   "cell_type": "code",
   "execution_count": 33,
   "metadata": {},
   "outputs": [],
   "source": [
    "u = LpVariable.dicts('u', V, 0, len(N), LpInteger)"
   ]
  },
  {
   "cell_type": "markdown",
   "metadata": {},
   "source": [
    "**Objective Function**"
   ]
  },
  {
   "cell_type": "code",
   "execution_count": 34,
   "metadata": {},
   "outputs": [],
   "source": [
    "prob += lpSum([x[(i,j)]* c[(i,j)] for (i,j) in c])"
   ]
  },
  {
   "cell_type": "code",
   "execution_count": 35,
   "metadata": {},
   "outputs": [],
   "source": [
    "depot = 0\n",
    "#print(f\"Depot : {depot}\")\n",
    "\n",
    "#constraints\n",
    "for k in V:\n",
    "    cap = 1 if k != depot else K\n",
    "    #inbound connection\n",
    "    prob+= lpSum([ x[(i,k)] for i in V if (i,k) in x]) == cap\n",
    "    #outbound connection\n",
    "    prob+= lpSum([ x[(k,i)] for i in V if (k,i) in x]) == cap\n",
    "    \n",
    "\n",
    "#subtour elimination\n",
    "O=len(V)/K\n",
    "for i in V:\n",
    "    for j in V:\n",
    "        if i != j and (i != depot and j!= depot) and (i,j) in x:\n",
    "            prob += u[i] - u[j] <= (O)*(1-x[(i,j)]) - 1"
   ]
  },
  {
   "cell_type": "code",
   "execution_count": 36,
   "metadata": {},
   "outputs": [
    {
     "name": "stdout",
     "output_type": "stream",
     "text": [
      "Wall time: 1.27 s\n"
     ]
    }
   ],
   "source": [
    "initial_t = time()\n",
    "\n",
    "%time prob.solve()\n",
    "\n",
    "final_t = time()\n",
    "lpTime = final_t - initial_t"
   ]
  },
  {
   "cell_type": "code",
   "execution_count": 37,
   "metadata": {},
   "outputs": [
    {
     "name": "stdout",
     "output_type": "stream",
     "text": [
      "Optimal\n",
      "Minimal value found : 929.9606072288007\n"
     ]
    }
   ],
   "source": [
    "print(LpStatus[prob.status])\n",
    "print(\"Minimal value found :\", value(prob.objective))\n",
    "non_zero_edges = [ e for e in x if value(x[e]) != 0 ]"
   ]
  },
  {
   "cell_type": "code",
   "execution_count": 38,
   "metadata": {},
   "outputs": [],
   "source": [
    "beginnig_routes = [[e] for e in non_zero_edges if e[0] == depot]"
   ]
  },
  {
   "cell_type": "code",
   "execution_count": 39,
   "metadata": {},
   "outputs": [],
   "source": [
    "routesLP = beginnig_routes\n",
    "i = 0\n",
    "for edge in beginnig_routes:\n",
    "    target = edge[0][-1]\n",
    "    while target != depot:\n",
    "        next_site = [e for e in non_zero_edges if e[0] == target][-1]\n",
    "        routesLP[i].append(next_site)\n",
    "        target = next_site[-1]\n",
    "        \n",
    "    i+=1"
   ]
  },
  {
   "cell_type": "code",
   "execution_count": 40,
   "metadata": {},
   "outputs": [
    {
     "data": {
      "image/png": "[encoded data removed]",
      "text/plain": [
       "<Figure size 432x288 with 1 Axes>"
      ]
     },
     "metadata": {},
     "output_type": "display_data"
    },
    {
     "data": {
      "image/png": "[encoded data removed]",
      "text/plain": [
       "<Figure size 432x288 with 1 Axes>"
      ]
     },
     "metadata": {},
     "output_type": "display_data"
    }
   ],
   "source": [
    "displayResults(routesLP)\n",
    "displayResults(routesGenetic)"
   ]
  },
  {
   "cell_type": "markdown",
   "metadata": {},
   "source": [
    "## Comparison"
   ]
  },
  {
   "cell_type": "code",
   "execution_count": 41,
   "metadata": {},
   "outputs": [
    {
     "name": "stdout",
     "output_type": "stream",
     "text": [
      "Result returned by Genetic Algorithm : 957.9882100634277 in 0.7343442440032959 secs.\n",
      "Result returned by Linear Programming : 929.9606072288007 in 1.272019624710083 secs.\n"
     ]
    }
   ],
   "source": [
    "minGenetic = result[1]\n",
    "minLP =  value(prob.objective)\n",
    "\n",
    "\n",
    "print(f\"Result returned by Genetic Algorithm : {minGenetic} in {gnTime} secs.\")\n",
    "print(f\"Result returned by Linear Programming : {minLP} in {lpTime} secs.\")"
   ]
  },
  {
   "cell_type": "code",
   "execution_count": null,
   "metadata": {},
   "outputs": [],
   "source": []
  }
 ],
 "metadata": {
  "kernelspec": {
   "display_name": "Python 3",
   "language": "python",
   "name": "python3"
  },
  "language_info": {
   "codemirror_mode": {
    "name": "ipython",
    "version": 3
   },
   "file_extension": ".py",
   "mimetype": "text/x-python",
   "name": "python",
   "nbconvert_exporter": "python",
   "pygments_lexer": "ipython3",
   "version": "3.7.4"
  }
 },
 "nbformat": 4,
 "nbformat_minor": 2
}
